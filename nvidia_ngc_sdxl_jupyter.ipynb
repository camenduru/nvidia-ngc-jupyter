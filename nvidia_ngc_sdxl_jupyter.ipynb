{
    "cells": [
        {
            "cell_type": "markdown",
            "metadata": {
                "id": "view-in-github"
            },
            "source": [
                "[![Open In Colab](https://colab.research.google.com/assets/colab-badge.svg)](https://colab.research.google.com/github/camenduru/nvidia-ngc-jupyter/blob/main/nvidia_ngc_sdxl_jupyter.ipynb)"
            ]
        },
        {
            "cell_type": "code",
            "execution_count": null,
            "metadata": {},
            "outputs": [],
            "source": [
                "import requests\n",
                "\n",
                "invoke_url = \"https://api.nvcf.nvidia.com/v2/nvcf/pexec/functions/89848fb8-549f-41bb-88cb-95d6597044a4\"\n",
                "fetch_url_format = \"https://api.nvcf.nvidia.com/v2/nvcf/pexec/status/\"\n",
                "\n",
                "headers = {\n",
                "    \"Authorization\": \"Bearer NVIDIA_TOKEN_HERE\",\n",
                "    \"Accept\": \"application/json\",\n",
                "}\n",
                "\n",
                "payload = {\n",
                "  \"prompt\": \"A photo of a Shiba Inu dog with a backpack riding a bike\",\n",
                "  \"negative_prompt\": \"\",\n",
                "  \"sampler\": \"DPM\",\n",
                "  \"seed\": 0,\n",
                "  \"guidance_scale\": 5,\n",
                "  \"inference_steps\": 25\n",
                "}\n",
                "\n",
                "# re-use connections\n",
                "session = requests.Session()\n",
                "\n",
                "response = session.post(invoke_url, headers=headers, json=payload)\n",
                "\n",
                "while response.status_code == 202:\n",
                "    request_id = response.headers.get(\"NVCF-REQID\")\n",
                "    fetch_url = fetch_url_format + request_id\n",
                "    response = session.get(fetch_url, headers=headers)\n",
                "\n",
                "response.raise_for_status()\n",
                "response_body = response.json()\n",
                "# print(response_body)\n",
                "\n",
                "import base64\n",
                "from IPython.display import display, Image\n",
                "\n",
                "image_base64 = response_body['b64_json']\n",
                "image_data = base64.b64decode(image_base64)\n",
                "\n",
                "display(Image(data=image_data))\n",
                "\n",
                "# with open(\"/content/saved_image.jpg\", \"wb\") as file:\n",
                "#     file.write(image_data)"
            ]
        }
    ],
    "metadata": {
        "language_info": {
            "name": "python"
        }
    },
    "nbformat": 4,
    "nbformat_minor": 2
}
