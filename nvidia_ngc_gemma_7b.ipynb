{
    "cells": [
        {
            "cell_type": "markdown",
            "metadata": {
                "id": "view-in-github"
            },
            "source": [
                "[![Open In Colab](https://colab.research.google.com/assets/colab-badge.svg)](https://colab.research.google.com/github/camenduru/nvidia-ngc-jupyter/blob/main/nvidia_ngc_gemma_7b.ipynb)"
            ]
        },
        {
            "cell_type": "code",
            "execution_count": null,
            "metadata": {},
            "outputs": [],
            "source": [
                "import requests\n",
                "\n",
                "invoke_url = \"https://api.nvcf.nvidia.com/v2/nvcf/pexec/functions/1361fa56-61d7-4a12-af32-69a3825746fa\"\n",
                "fetch_url_format = \"https://api.nvcf.nvidia.com/v2/nvcf/pexec/status/\"\n",
                "\n",
                "headers = {\n",
                "    \"Authorization\": \"Bearer NVIDIA_TOKEN_HERE\",\n",
                "    \"Accept\": \"application/json\",\n",
                "}\n",
                "\n",
                "payload = {\n",
                "  \"messages\": [\n",
                "    {\n",
                "      \"content\": \"I am going to Paris, what should I see?\",\n",
                "      \"role\": \"user\"\n",
                "    }\n",
                "  ],\n",
                "  \"temperature\": 0.2,\n",
                "  \"top_p\": 0.7,\n",
                "  \"max_tokens\": 1024,\n",
                "  \"seed\": 42,\n",
                "  \"bad\": None,\n",
                "  \"stop\": None,\n",
                "  \"stream\": False\n",
                "}\n",
                "\n",
                "# re-use connections\n",
                "session = requests.Session()\n",
                "\n",
                "response = session.post(invoke_url, headers=headers, json=payload)\n",
                "\n",
                "while response.status_code == 202:\n",
                "    request_id = response.headers.get(\"NVCF-REQID\")\n",
                "    fetch_url = fetch_url_format + request_id\n",
                "    response = session.get(fetch_url, headers=headers)\n",
                "\n",
                "response.raise_for_status()\n",
                "response_body = response.json()\n",
                "print(response_body)"
            ]
        }
    ],
    "metadata": {
        "language_info": {
            "name": "python"
        }
    },
    "nbformat": 4,
    "nbformat_minor": 2
}
